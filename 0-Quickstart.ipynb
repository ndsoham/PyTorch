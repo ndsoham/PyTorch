{
 "cells": [
  {
   "cell_type": "markdown",
   "id": "a88e0613",
   "metadata": {
    "vscode": {
     "languageId": "plaintext"
    }
   },
   "source": [
    "## Working with data"
   ]
  },
  {
   "cell_type": "code",
   "execution_count": 14,
   "id": "eec52fae",
   "metadata": {},
   "outputs": [],
   "source": [
    "import torch\n",
    "from torch import nn\n",
    "from torch.utils.data import DataLoader # wraps iterable around dataset\n",
    "from torchvision import datasets # stores samples and labels\n",
    "from torchvision.transforms import ToTensor"
   ]
  },
  {
   "cell_type": "code",
   "execution_count": 15,
   "id": "3693b0d7",
   "metadata": {},
   "outputs": [],
   "source": [
    "# Download training data from open datasets\n",
    "training_data = datasets.FashionMNIST(\n",
    "    root=\"data\",\n",
    "    train=True,\n",
    "    download=True,\n",
    "    transform=ToTensor()\n",
    ")\n",
    "\n",
    "# Download test data from open datasets\n",
    "test_data = datasets.FashionMNIST(\n",
    "    root=\"data\",\n",
    "    train=False,\n",
    "    download=True,\n",
    "    transform=ToTensor()\n",
    ")"
   ]
  },
  {
   "cell_type": "markdown",
   "id": "670a6421",
   "metadata": {},
   "source": [
    "Pass `Dataset` to dataloader, which wraps it in an iterable. This supports batching, shuffling, and sampling"
   ]
  },
  {
   "cell_type": "code",
   "execution_count": 16,
   "id": "db3fd9c1",
   "metadata": {},
   "outputs": [
    {
     "name": "stdout",
     "output_type": "stream",
     "text": [
      "Shape of X [N, C, H, W]: torch.Size([64, 1, 28, 28])\n",
      "Shape of y: torch.Size([64]) torch.int64\n"
     ]
    }
   ],
   "source": [
    "batch_size = 64\n",
    "\n",
    "# Create data loaders\n",
    "train_dataloader = DataLoader(training_data, batch_size=batch_size)\n",
    "test_dataloader = DataLoader(test_data, batch_size=batch_size)\n",
    "\n",
    "for X,y in test_dataloader:\n",
    "    print(f\"Shape of X [N, C, H, W]: {X.shape}\")\n",
    "    print(f\"Shape of y: {y.shape} {y.dtype}\")\n",
    "    break"
   ]
  },
  {
   "cell_type": "markdown",
   "id": "d5f87c90",
   "metadata": {},
   "source": [
    "## Creating Models"
   ]
  },
  {
   "cell_type": "markdown",
   "id": "2980efe5",
   "metadata": {},
   "source": [
    "Define models by creating classes that inherit from `nn.Module`. Define the layers of the network in `__init__` and forward pass in `forward`. Use CUDA, MPS, MTIA if available, otherwise use CPU."
   ]
  },
  {
   "cell_type": "code",
   "execution_count": null,
   "id": "4bd5f0a3",
   "metadata": {},
   "outputs": [
    {
     "name": "stdout",
     "output_type": "stream",
     "text": [
      "Using cpu device\n"
     ]
    }
   ],
   "source": [
    "device = \"cuda\" if torch.cuda.is_available() else \"cpu\"\n",
    "print(f\"Using {device} device\")"
   ]
  },
  {
   "cell_type": "code",
   "execution_count": 23,
   "id": "b2765cca",
   "metadata": {},
   "outputs": [],
   "source": [
    "# Define model\n",
    "class NeuralNetwork(nn.Module):\n",
    "    def __init__(self):\n",
    "        super().__init__()\n",
    "        self.flatten = nn.Flatten()\n",
    "        self.linear_relu_stack = nn.Sequential(\n",
    "            nn.Linear(28*28, 512),\n",
    "            nn.ReLU(),\n",
    "            nn.Linear(512, 512),\n",
    "            nn.ReLU(),\n",
    "            nn.Linear(512, 10)\n",
    "        )\n",
    "    \n",
    "    def forward(self, x):\n",
    "        x = self.flatten(x)\n",
    "        logits = self.linear_relu_stack(x)\n",
    "        return logits"
   ]
  },
  {
   "cell_type": "code",
   "execution_count": 25,
   "id": "0616046a",
   "metadata": {},
   "outputs": [
    {
     "name": "stdout",
     "output_type": "stream",
     "text": [
      "NeuralNetwork(\n",
      "  (flatten): Flatten(start_dim=1, end_dim=-1)\n",
      "  (linear_relu_stack): Sequential(\n",
      "    (0): Linear(in_features=784, out_features=512, bias=True)\n",
      "    (1): ReLU()\n",
      "    (2): Linear(in_features=512, out_features=512, bias=True)\n",
      "    (3): ReLU()\n",
      "    (4): Linear(in_features=512, out_features=10, bias=True)\n",
      "  )\n",
      ")\n"
     ]
    }
   ],
   "source": [
    "model = NeuralNetwork().to(device)\n",
    "print(model)"
   ]
  },
  {
   "cell_type": "markdown",
   "id": "70537e6f",
   "metadata": {},
   "source": [
    "## Optimizing the Model Parameters"
   ]
  },
  {
   "cell_type": "markdown",
   "id": "09a03904",
   "metadata": {},
   "source": [
    "To train a model, need loss function and optimizer"
   ]
  },
  {
   "cell_type": "code",
   "execution_count": 26,
   "id": "a1f94593",
   "metadata": {},
   "outputs": [],
   "source": [
    "loss_fn = nn.CrossEntropyLoss()\n",
    "optimizer = torch.optim.SGD(model.parameters(), lr=1e-3)"
   ]
  },
  {
   "cell_type": "markdown",
   "id": "40279da5",
   "metadata": {},
   "source": [
    "During training, the model makes predictions on the training dataset and backpropogates error to adjust model parameters"
   ]
  },
  {
   "cell_type": "code",
   "execution_count": 27,
   "id": "7ef0debc",
   "metadata": {},
   "outputs": [],
   "source": [
    "def train(dataloader, model, loss_fn, optimizer):\n",
    "    size = len(dataloader.dataset)\n",
    "    model.train()\n",
    "    for batch, (X, y) in enumerate(dataloader):\n",
    "        X, y = X.to(device), y.to(device)\n",
    "        \n",
    "        # Compute prediction error\n",
    "        pred = model(X)\n",
    "        loss = loss_fn(pred, y)\n",
    "        \n",
    "        # Backpropogation\n",
    "        loss.backward()\n",
    "        optimizer.step()\n",
    "        optimizer.zero_grad()\n",
    "        \n",
    "        if batch % 100 == 0:\n",
    "            loss, current = loss.item(), (batch + 1) * len(X)\n",
    "            print(f\"loss: {loss:>7f} [{current:>5d}/{size:>5d}]\")"
   ]
  },
  {
   "cell_type": "code",
   "execution_count": 28,
   "id": "42c0cc4d",
   "metadata": {},
   "outputs": [],
   "source": [
    "# Check the model's performance against the test dataset to ensure it is learning\n",
    "def test(dataloader, model, loss_fn):\n",
    "    size = len(dataloader.dataset)\n",
    "    num_batches = len(dataloader)\n",
    "    model.eval()\n",
    "    test_loss, correct = 0, 0\n",
    "    with torch.no_grad():\n",
    "        for X, y in dataloader:\n",
    "            X, y = X.to(device), y.to(device)\n",
    "            pred = model(X)\n",
    "            test_loss += loss_fn(pred, y).item()\n",
    "            correct += (pred.argmax(1) == y).type(torch.float).sum().item()\n",
    "    test_loss /= num_batches\n",
    "    correct /= size\n",
    "    print(f\"Test Error: \\n Accuracy: {(100*correct):>0.1f}%, Avg loss: {test_loss:>8f} \\n\")"
   ]
  },
  {
   "cell_type": "markdown",
   "id": "ef0f162e",
   "metadata": {},
   "source": [
    "Training process is carried out in iteration \"epochs\". Loss should decrease and accuracy should increase per epoch"
   ]
  },
  {
   "cell_type": "code",
   "execution_count": 29,
   "id": "d9fe1207",
   "metadata": {},
   "outputs": [
    {
     "name": "stdout",
     "output_type": "stream",
     "text": [
      "Epoch 1\n",
      "-------------------------------\n",
      "loss: 2.296513 [   64/60000]\n",
      "loss: 2.283098 [ 6464/60000]\n",
      "loss: 2.257901 [12864/60000]\n",
      "loss: 2.254544 [19264/60000]\n",
      "loss: 2.236394 [25664/60000]\n",
      "loss: 2.202948 [32064/60000]\n",
      "loss: 2.213705 [38464/60000]\n",
      "loss: 2.164130 [44864/60000]\n",
      "loss: 2.172515 [51264/60000]\n",
      "loss: 2.141840 [57664/60000]\n",
      "Test Error: \n",
      " Accuracy: 46.3%, Avg loss: 2.131214 \n",
      "\n",
      "Epoch 2\n",
      "-------------------------------\n",
      "loss: 2.143758 [   64/60000]\n",
      "loss: 2.129476 [ 6464/60000]\n",
      "loss: 2.062798 [12864/60000]\n",
      "loss: 2.083358 [19264/60000]\n",
      "loss: 2.021390 [25664/60000]\n",
      "loss: 1.963023 [32064/60000]\n",
      "loss: 1.989786 [38464/60000]\n",
      "loss: 1.891632 [44864/60000]\n",
      "loss: 1.910652 [51264/60000]\n",
      "loss: 1.841244 [57664/60000]\n",
      "Test Error: \n",
      " Accuracy: 54.0%, Avg loss: 1.833799 \n",
      "\n",
      "Epoch 3\n",
      "-------------------------------\n",
      "loss: 1.865423 [   64/60000]\n",
      "loss: 1.834479 [ 6464/60000]\n",
      "loss: 1.711535 [12864/60000]\n",
      "loss: 1.761436 [19264/60000]\n",
      "loss: 1.646076 [25664/60000]\n",
      "loss: 1.606358 [32064/60000]\n",
      "loss: 1.627074 [38464/60000]\n",
      "loss: 1.518921 [44864/60000]\n",
      "loss: 1.559278 [51264/60000]\n",
      "loss: 1.463361 [57664/60000]\n",
      "Test Error: \n",
      " Accuracy: 60.1%, Avg loss: 1.479962 \n",
      "\n",
      "Epoch 4\n",
      "-------------------------------\n",
      "loss: 1.537582 [   64/60000]\n",
      "loss: 1.514236 [ 6464/60000]\n",
      "loss: 1.365957 [12864/60000]\n",
      "loss: 1.446647 [19264/60000]\n",
      "loss: 1.325885 [25664/60000]\n",
      "loss: 1.325205 [32064/60000]\n",
      "loss: 1.335403 [38464/60000]\n",
      "loss: 1.252661 [44864/60000]\n",
      "loss: 1.300565 [51264/60000]\n",
      "loss: 1.210479 [57664/60000]\n",
      "Test Error: \n",
      " Accuracy: 63.1%, Avg loss: 1.234923 \n",
      "\n",
      "Epoch 5\n",
      "-------------------------------\n",
      "loss: 1.297778 [   64/60000]\n",
      "loss: 1.292235 [ 6464/60000]\n",
      "loss: 1.130004 [12864/60000]\n",
      "loss: 1.241056 [19264/60000]\n",
      "loss: 1.113091 [25664/60000]\n",
      "loss: 1.138474 [32064/60000]\n",
      "loss: 1.153289 [38464/60000]\n",
      "loss: 1.083392 [44864/60000]\n",
      "loss: 1.138455 [51264/60000]\n",
      "loss: 1.059399 [57664/60000]\n",
      "Test Error: \n",
      " Accuracy: 64.8%, Avg loss: 1.078765 \n",
      "\n",
      "Done!\n"
     ]
    }
   ],
   "source": [
    "epochs = 5\n",
    "for t in range(epochs):\n",
    "    print(f\"Epoch {t+1}\\n-------------------------------\")\n",
    "    train(train_dataloader, model, loss_fn, optimizer)\n",
    "    test(test_dataloader, model, loss_fn)\n",
    "print(\"Done!\")"
   ]
  },
  {
   "cell_type": "markdown",
   "id": "26c1b9aa",
   "metadata": {},
   "source": [
    "## Saving Models"
   ]
  },
  {
   "cell_type": "markdown",
   "id": "09e4dbe9",
   "metadata": {},
   "source": [
    "Common way to save model is to save state containing model parameters"
   ]
  },
  {
   "cell_type": "code",
   "execution_count": 30,
   "id": "49f552d3",
   "metadata": {},
   "outputs": [
    {
     "name": "stdout",
     "output_type": "stream",
     "text": [
      "Saved PyTorch Model State to model.pth\n"
     ]
    }
   ],
   "source": [
    "torch.save(model.state_dict(), \"model.pth\")\n",
    "print(\"Saved PyTorch Model State to model.pth\")"
   ]
  },
  {
   "cell_type": "markdown",
   "id": "6420d049",
   "metadata": {},
   "source": [
    "## Loading Models"
   ]
  },
  {
   "cell_type": "markdown",
   "id": "671c65bb",
   "metadata": {},
   "source": [
    "Recreate models by loading structure and state dictionary"
   ]
  },
  {
   "cell_type": "code",
   "execution_count": 31,
   "id": "59d0da01",
   "metadata": {},
   "outputs": [
    {
     "data": {
      "text/plain": [
       "<All keys matched successfully>"
      ]
     },
     "execution_count": 31,
     "metadata": {},
     "output_type": "execute_result"
    }
   ],
   "source": [
    "model = NeuralNetwork().to(device)\n",
    "model.load_state_dict(torch.load(\"model.pth\", weights_only=True))"
   ]
  },
  {
   "cell_type": "code",
   "execution_count": 33,
   "id": "a966f6fc",
   "metadata": {},
   "outputs": [
    {
     "name": "stdout",
     "output_type": "stream",
     "text": [
      "Predicted: \"Ankle Boot\", Actual: \"Ankle Boot\"\n"
     ]
    }
   ],
   "source": [
    "classes = [\n",
    "    \"T-shirt/top\",\n",
    "    \"Trouser\",\n",
    "    \"Pullover\",\n",
    "    \"Dress\",\n",
    "    \"Coat\",\n",
    "    \"Sandal\",\n",
    "    \"Shirt\",\n",
    "    \"Sneaker\",\n",
    "    \"Bag\",\n",
    "    \"Ankle Boot\"\n",
    "]\n",
    "\n",
    "model.eval()\n",
    "x, y = test_data[0][0], test_data[0][1]\n",
    "with torch.no_grad():\n",
    "    x = x.to(device)\n",
    "    pred = model(x)\n",
    "    predicted, actual = classes[pred[0].argmax(0)], classes[y]\n",
    "    print(f'Predicted: \"{predicted}\", Actual: \"{actual}\"')"
   ]
  }
 ],
 "metadata": {
  "kernelspec": {
   "display_name": "Python 3",
   "language": "python",
   "name": "python3"
  },
  "language_info": {
   "codemirror_mode": {
    "name": "ipython",
    "version": 3
   },
   "file_extension": ".py",
   "mimetype": "text/x-python",
   "name": "python",
   "nbconvert_exporter": "python",
   "pygments_lexer": "ipython3",
   "version": "3.12.0"
  }
 },
 "nbformat": 4,
 "nbformat_minor": 5
}
