{
 "cells": [
  {
   "cell_type": "markdown",
   "id": "0b095b74",
   "metadata": {},
   "source": [
    "When using backpropogation, `torch.autograd` can be used to automatically calculated gradients"
   ]
  },
  {
   "cell_type": "code",
   "execution_count": null,
   "id": "0188a5f2",
   "metadata": {},
   "outputs": [],
   "source": [
    "import torch\n",
    "\n",
    "x = torch.ones(5) # input tensor\n",
    "y = torch.zeros(3) # expected output\n",
    "\n",
    "w  = torch.randn(5, 3, requires_grad=True) # can also set later with w.requires_grad_(True)\n",
    "b = torch.randn(3, requires_grad=True)\n",
    "z = torch.matmul(x, w) + b\n",
    "loss = torch.nn.functional.binary_cross_entropy_with_logits(z, y)"
   ]
  },
  {
   "cell_type": "markdown",
   "id": "4cbe3aa5",
   "metadata": {},
   "source": [
    "Functions applied to tensors have `grad_fn` property that is handy during backpropogation"
   ]
  },
  {
   "cell_type": "code",
   "execution_count": 2,
   "id": "c5cfa355",
   "metadata": {},
   "outputs": [
    {
     "name": "stdout",
     "output_type": "stream",
     "text": [
      "Gradient function for Z = <AddBackward0 object at 0x16d91e680>\n",
      "Gradient function for loss = <BinaryCrossEntropyWithLogitsBackward0 object at 0x16d91e7a0>\n"
     ]
    }
   ],
   "source": [
    "print(f\"Gradient function for Z = {z.grad_fn}\")\n",
    "print(f\"Gradient function for loss = {loss.grad_fn}\")"
   ]
  },
  {
   "cell_type": "markdown",
   "id": "034eb823",
   "metadata": {},
   "source": [
    "## Computing Gradients"
   ]
  },
  {
   "cell_type": "code",
   "execution_count": 5,
   "id": "dde13ed5",
   "metadata": {},
   "outputs": [
    {
     "name": "stdout",
     "output_type": "stream",
     "text": [
      "tensor([[0.1830, 0.0863, 0.2666],\n",
      "        [0.1830, 0.0863, 0.2666],\n",
      "        [0.1830, 0.0863, 0.2666],\n",
      "        [0.1830, 0.0863, 0.2666],\n",
      "        [0.1830, 0.0863, 0.2666]])\n",
      "tensor([0.1830, 0.0863, 0.2666])\n"
     ]
    }
   ],
   "source": [
    "# call loss.backward() to compute derivaties, then retrieve values\n",
    "loss.backward()\n",
    "print(w.grad)\n",
    "print(b.grad)"
   ]
  },
  {
   "cell_type": "markdown",
   "id": "37305e2f",
   "metadata": {},
   "source": [
    "## Disable Gradient Tracking"
   ]
  },
  {
   "cell_type": "markdown",
   "id": "0014f9b2",
   "metadata": {},
   "source": [
    "To disable backpropogation during evaluation time, surround with `torch.no_grad()` block"
   ]
  },
  {
   "cell_type": "code",
   "execution_count": 6,
   "id": "dbf45734",
   "metadata": {},
   "outputs": [
    {
     "name": "stdout",
     "output_type": "stream",
     "text": [
      "True\n",
      "False\n"
     ]
    }
   ],
   "source": [
    "z = torch.matmul(x, w) + b\n",
    "print(z.requires_grad)\n",
    "\n",
    "with torch.no_grad():\n",
    "    z = torch.matmul(x, w) + b\n",
    "print(z.requires_grad)"
   ]
  },
  {
   "cell_type": "code",
   "execution_count": 7,
   "id": "f7b0e20d",
   "metadata": {},
   "outputs": [
    {
     "name": "stdout",
     "output_type": "stream",
     "text": [
      "False\n"
     ]
    }
   ],
   "source": [
    "# Can also achieve same result with detach()\n",
    "z = torch.matmul(x, w) + b\n",
    "z_det = z.detach()\n",
    "print(z_det.requires_grad)"
   ]
  },
  {
   "cell_type": "markdown",
   "id": "554d11d8",
   "metadata": {},
   "source": [
    "Can disable gradient tracking for frozen parameters and to speed up computations during forward pass"
   ]
  },
  {
   "cell_type": "markdown",
   "id": "96b6ebda",
   "metadata": {},
   "source": [
    "## More on Computational Graphs"
   ]
  },
  {
   "cell_type": "markdown",
   "id": "7488f42e",
   "metadata": {},
   "source": []
  }
 ],
 "metadata": {
  "kernelspec": {
   "display_name": "Python 3",
   "language": "python",
   "name": "python3"
  },
  "language_info": {
   "codemirror_mode": {
    "name": "ipython",
    "version": 3
   },
   "file_extension": ".py",
   "mimetype": "text/x-python",
   "name": "python",
   "nbconvert_exporter": "python",
   "pygments_lexer": "ipython3",
   "version": "3.12.0"
  }
 },
 "nbformat": 4,
 "nbformat_minor": 5
}
